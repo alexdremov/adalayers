{
 "cells": [
  {
   "cell_type": "code",
   "execution_count": 1,
   "metadata": {},
   "outputs": [],
   "source": [
    "from ipywidgets import interact, interactive, fixed, interact_manual\n",
    "import ipywidgets as widgets\n",
    "from ipywidgets import FloatSlider\n",
    "import numpy as np\n",
    "import torch\n",
    "import matplotlib.pyplot as plt"
   ]
  },
  {
   "cell_type": "code",
   "execution_count": 9,
   "metadata": {},
   "outputs": [
    {
     "data": {
      "application/vnd.jupyter.widget-view+json": {
       "model_id": "11294d8e94824caf9705db018ae1b180",
       "version_major": 2,
       "version_minor": 0
      },
      "text/plain": [
       "interactive(children=(FloatSlider(value=0.0, description='class_0', max=10.0, min=-10.0), FloatSlider(value=0.…"
      ]
     },
     "metadata": {},
     "output_type": "display_data"
    }
   ],
   "source": [
    "num_classes = 5\n",
    "\n",
    "sliders = {\n",
    "    f\"class_{i}\": FloatSlider(min=-10, max=10, step=0.1)\n",
    "    for i in range(num_classes)\n",
    "}\n",
    "\n",
    "def entropy(**kwargs):\n",
    "    logits = [kwargs[f\"class_{i}\"] for i in range(num_classes)]\n",
    "    data = torch.tensor(logits)\n",
    "    data = torch.nn.functional.softmax(data, dim=0)\n",
    "    plt.bar(range(num_classes), data.numpy())\n",
    "    print(-(data * torch.log(data)).mean())\n",
    "\n",
    "interact(\n",
    "    entropy,\n",
    "    **sliders\n",
    ");"
   ]
  },
  {
   "cell_type": "code",
   "execution_count": null,
   "metadata": {},
   "outputs": [],
   "source": []
  }
 ],
 "metadata": {
  "kernelspec": {
   "display_name": "Python 3 (ipykernel)",
   "language": "python",
   "name": "python3"
  },
  "language_info": {
   "codemirror_mode": {
    "name": "ipython",
    "version": 3
   },
   "file_extension": ".py",
   "mimetype": "text/x-python",
   "name": "python",
   "nbconvert_exporter": "python",
   "pygments_lexer": "ipython3",
   "version": "3.11.8"
  }
 },
 "nbformat": 4,
 "nbformat_minor": 4
}
